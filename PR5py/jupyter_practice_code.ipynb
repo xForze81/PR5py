{
 "cells": [
  {
   "cell_type": "markdown",
   "source": [
    "ЦЕЛЬ: реализовать базовый анализ датасета:\n",
    "            Датасеты не должны повторяться\n",
    "            Вывести весь датасет и опишите его\n",
    "            Вывести размерность массива\n",
    "            Вывести наименование всех колонок, написать что они означают в вашем датасете\n",
    "            Вывести все уникальные значения\n",
    "            Отсортировать по определенным параметрам\n",
    "            Удалить ненужные столбцы или строчки \n",
    "            Заменить определенные значения в датасете (например, пустые)\n",
    "            Удалить дубликаты\n",
    "            Провести анализ с помощью функций info\n",
    "            Провести анализ с помощью функций describe\n",
    "            Провести выборку данных по строкам и столбцам с помощью loc\n",
    "            Сохранить новый датасет\n",
    "            Сделать вывод по каждому пункту и описать все"
   ],
   "metadata": {
    "collapsed": false
   },
   "id": "c0a417be29bc1e64"
  },
  {
   "cell_type": "code",
   "execution_count": 1,
   "id": "initial_id",
   "metadata": {
    "collapsed": true,
    "ExecuteTime": {
     "end_time": "2023-12-20T11:15:16.239011100Z",
     "start_time": "2023-12-20T11:15:15.426748Z"
    }
   },
   "outputs": [],
   "source": [
    "import pandas as pd\n",
    "\n",
    "valorant = pd.read_csv('valorant-stats.csv')"
   ]
  },
  {
   "cell_type": "markdown",
   "source": [
    "Прочитали датасет из файла"
   ],
   "metadata": {
    "collapsed": false
   },
   "id": "daeb3b98da19046e"
  },
  {
   "cell_type": "code",
   "execution_count": 6,
   "outputs": [
    {
     "data": {
      "text/plain": "      Name Weapon Type  Price  Fire Rate Wall Penetration  Magazine Capacity  \\\n0  Classic     Sidearm      0       6.75              Low                 12   \n1   Shorty     Sidearm    200       3.30              Low                  2   \n2   Frenzy     Sidearm    400      10.00              Low                 13   \n3    Ghost     Sidearm    500       6.75           Medium                 15   \n4  Sheriff     Sidearm    800       4.00             High                  6   \n\n   HDMG_0  BDMG_0  LDMG_0  HDMG_1  BDMG_1  LDMG_1  HDMG_2  BDMG_2  LDMG_2  \n0      78      26      22      78      26      22      66      22      18  \n1      36      12      10      24       8       6       9       3       2  \n2      78      26      22      63      21      17      63      21      17  \n3     105      33      26      88      25      21      88      25      21  \n4     160      55      47     160      55      47     145      50      43  ",
      "text/html": "<div>\n<style scoped>\n    .dataframe tbody tr th:only-of-type {\n        vertical-align: middle;\n    }\n\n    .dataframe tbody tr th {\n        vertical-align: top;\n    }\n\n    .dataframe thead th {\n        text-align: right;\n    }\n</style>\n<table border=\"1\" class=\"dataframe\">\n  <thead>\n    <tr style=\"text-align: right;\">\n      <th></th>\n      <th>Name</th>\n      <th>Weapon Type</th>\n      <th>Price</th>\n      <th>Fire Rate</th>\n      <th>Wall Penetration</th>\n      <th>Magazine Capacity</th>\n      <th>HDMG_0</th>\n      <th>BDMG_0</th>\n      <th>LDMG_0</th>\n      <th>HDMG_1</th>\n      <th>BDMG_1</th>\n      <th>LDMG_1</th>\n      <th>HDMG_2</th>\n      <th>BDMG_2</th>\n      <th>LDMG_2</th>\n    </tr>\n  </thead>\n  <tbody>\n    <tr>\n      <th>0</th>\n      <td>Classic</td>\n      <td>Sidearm</td>\n      <td>0</td>\n      <td>6.75</td>\n      <td>Low</td>\n      <td>12</td>\n      <td>78</td>\n      <td>26</td>\n      <td>22</td>\n      <td>78</td>\n      <td>26</td>\n      <td>22</td>\n      <td>66</td>\n      <td>22</td>\n      <td>18</td>\n    </tr>\n    <tr>\n      <th>1</th>\n      <td>Shorty</td>\n      <td>Sidearm</td>\n      <td>200</td>\n      <td>3.30</td>\n      <td>Low</td>\n      <td>2</td>\n      <td>36</td>\n      <td>12</td>\n      <td>10</td>\n      <td>24</td>\n      <td>8</td>\n      <td>6</td>\n      <td>9</td>\n      <td>3</td>\n      <td>2</td>\n    </tr>\n    <tr>\n      <th>2</th>\n      <td>Frenzy</td>\n      <td>Sidearm</td>\n      <td>400</td>\n      <td>10.00</td>\n      <td>Low</td>\n      <td>13</td>\n      <td>78</td>\n      <td>26</td>\n      <td>22</td>\n      <td>63</td>\n      <td>21</td>\n      <td>17</td>\n      <td>63</td>\n      <td>21</td>\n      <td>17</td>\n    </tr>\n    <tr>\n      <th>3</th>\n      <td>Ghost</td>\n      <td>Sidearm</td>\n      <td>500</td>\n      <td>6.75</td>\n      <td>Medium</td>\n      <td>15</td>\n      <td>105</td>\n      <td>33</td>\n      <td>26</td>\n      <td>88</td>\n      <td>25</td>\n      <td>21</td>\n      <td>88</td>\n      <td>25</td>\n      <td>21</td>\n    </tr>\n    <tr>\n      <th>4</th>\n      <td>Sheriff</td>\n      <td>Sidearm</td>\n      <td>800</td>\n      <td>4.00</td>\n      <td>High</td>\n      <td>6</td>\n      <td>160</td>\n      <td>55</td>\n      <td>47</td>\n      <td>160</td>\n      <td>55</td>\n      <td>47</td>\n      <td>145</td>\n      <td>50</td>\n      <td>43</td>\n    </tr>\n  </tbody>\n</table>\n</div>"
     },
     "execution_count": 6,
     "metadata": {},
     "output_type": "execute_result"
    }
   ],
   "source": [
    "valorant.head()"
   ],
   "metadata": {
    "collapsed": false,
    "ExecuteTime": {
     "end_time": "2023-12-18T10:58:45.515572Z",
     "start_time": "2023-12-18T10:58:45.496934100Z"
    }
   },
   "id": "ccdd5a46fcb3a75"
  },
  {
   "cell_type": "markdown",
   "source": [
    "Вывели пару строк из датасета"
   ],
   "metadata": {
    "collapsed": false
   },
   "id": "deb96b71aca4c710"
  },
  {
   "cell_type": "markdown",
   "source": [
    "Описание: это датасет по валоранту, он содержит в себе описание оружия из игры (я хотел найти героев, но не нашёл, мб плохо искал)\n",
    "если описывать конкретнее, то в датасете есть:\n",
    "1. Название оружия\n",
    "2. его тип\n",
    "3. цена\n",
    "4. скорость стрельбы\n",
    "5. простреливаемость стен\n",
    "6. объём магазина\n",
    "7. и куча разного урана, в голову, в тело и в ноги (остальные колонки я если четно сам не оч понял, ну собственно я их потом и удалю)"
   ],
   "metadata": {
    "collapsed": false
   },
   "id": "5c8dfac19adac396"
  },
  {
   "cell_type": "code",
   "execution_count": 7,
   "outputs": [
    {
     "name": "stdout",
     "output_type": "stream",
     "text": [
      "(17, 15)\n"
     ]
    }
   ],
   "source": [
    "print(valorant.shape)"
   ],
   "metadata": {
    "collapsed": false,
    "ExecuteTime": {
     "end_time": "2023-12-18T11:00:30.756133600Z",
     "start_time": "2023-12-18T11:00:30.747157900Z"
    }
   },
   "id": "c7fde8b94a0b9897"
  },
  {
   "cell_type": "markdown",
   "source": [
    "вывели размерность массива"
   ],
   "metadata": {
    "collapsed": false
   },
   "id": "a49a35c15c13837c"
  },
  {
   "cell_type": "code",
   "execution_count": 8,
   "outputs": [
    {
     "name": "stdout",
     "output_type": "stream",
     "text": [
      "Name\n",
      "Weapon Type\n",
      "Price\n",
      "Fire Rate\n",
      "Wall Penetration\n",
      "Magazine Capacity\n",
      "HDMG_0\n",
      "BDMG_0\n",
      "LDMG_0\n",
      "HDMG_1\n",
      "BDMG_1\n",
      "LDMG_1\n",
      "HDMG_2\n",
      "BDMG_2\n",
      "LDMG_2\n"
     ]
    }
   ],
   "source": [
    "columns = valorant.columns\n",
    "\n",
    "for i in columns:\n",
    "    print(i)"
   ],
   "metadata": {
    "collapsed": false,
    "ExecuteTime": {
     "end_time": "2023-12-18T12:54:30.425602500Z",
     "start_time": "2023-12-18T12:54:30.417756800Z"
    }
   },
   "id": "1367bccdf5496978"
  },
  {
   "cell_type": "markdown",
   "source": [
    "Weapon: Наименование оружия (например, \"Classic\", \"Shorty\", \"Frenzy\" и так далее).\n",
    "Type: Тип оружия (например, \"Sidearm\", \"SMG\", \"Rifle\", \"Sniper\", \"Shotgun\", \"Heavy\").\n",
    "Cost: Стоимость оружия в игровой валюте.\n",
    "Fire Rate: Скорострельность оружия.\n",
    "Armor Penetration: Пробиваемость брони (Low - Низкая, Medium - Средняя, High - Высокая).\n",
    "Magazine: Размер магазина (количество патронов).\n",
    "Wall Penetration: Пробиваемость стен (количество уровней).\n",
    "Headshot Damage: Урон от попадания в голову.\n",
    "Body Damage: Урон по телу.\n",
    "Leg Damage: Урон по ногам.\n",
    "Alt. Fire - Head: Урон от дополнительного огня в голову (если есть).\n",
    "Alt. Fire - Body: Урон от дополнительного огня по телу (если есть).\n",
    "Alt. Fire - Leg: Урон от дополнительного огня по ногам (если есть)."
   ],
   "metadata": {
    "collapsed": false
   },
   "id": "43fec03d1d5dd07d"
  },
  {
   "cell_type": "code",
   "execution_count": 9,
   "outputs": [
    {
     "name": "stdout",
     "output_type": "stream",
     "text": [
      "['Classic' 'Shorty' 'Frenzy' 'Ghost' 'Sheriff' 'Stinger' 'Spectre'\n",
      " 'Bulldog' 'Guardian' 'Phantom' 'Vandal' 'Marshall' 'Operator' 'Bucky'\n",
      " 'Judge' 'Ares' 'Odin']\n",
      "['Sidearm' 'SMG' 'Rifle' 'Sniper' 'Shotgun' 'Heavy']\n",
      "[   0  200  400  500  800 1000 1600 2100 2500 2900 1100 4500  900 1500\n",
      " 3200]\n",
      "[ 6.75  3.3  10.    4.   18.   13.33  9.15  6.5  11.    9.25  1.5   0.75\n",
      "  1.1   3.5  12.  ]\n",
      "['Low' 'Medium' 'High']\n",
      "[ 12   2  13  15   6  20  30  24  25   5   7  50 100]\n",
      "[ 78  36 105 160  67 116 195 156 202 255  55  34  72  95]\n",
      "[ 26  12  33  55  27  35  65  39 101 150  22  17  30  38]\n",
      "[ 22  10  26  47  23  30  49  33  85 127  19  14  25  32]\n",
      "[ 78  24  63  88 160  62  66 116 195 140 156 202 255  34  26  72  95]\n",
      "[ 26   8  21  25  55  22  35  65  39 101 150  17  13  30  38]\n",
      "[ 22   6  17  21  47  18  30  49  33  85 127  14  11  25  32]\n",
      "[ 66   9  63  88 145  62 116 195 124 156 202 255  18  20  67  77]\n",
      "[ 22   3  21  25  50  35  65  31  39 101 150   9  10  28]\n",
      "[ 18   2  17  21  43  30  49  26  33  85 127   8   9  23]\n"
     ]
    }
   ],
   "source": [
    "for item in valorant.columns:\n",
    "    print(valorant[item].unique())"
   ],
   "metadata": {
    "collapsed": false,
    "ExecuteTime": {
     "end_time": "2023-12-18T13:01:37.416862600Z",
     "start_time": "2023-12-18T13:01:37.399642Z"
    }
   },
   "id": "7dff70bc47468d3b"
  },
  {
   "cell_type": "markdown",
   "source": [
    "Вывести все уникальные значения"
   ],
   "metadata": {
    "collapsed": false
   },
   "id": "1015c0630e8203c3"
  },
  {
   "cell_type": "code",
   "execution_count": 20,
   "outputs": [
    {
     "data": {
      "text/plain": "        Name Weapon Type  Price  Fire Rate  Wall Penetration  \\\n0    Classic     Sidearm      0       6.75                 1   \n1     Shorty     Sidearm    200       3.30                 1   \n2     Frenzy     Sidearm    400      10.00                 1   \n3      Ghost     Sidearm    500       6.75                 2   \n4    Sheriff     Sidearm    800       4.00                 3   \n13     Bucky     Shotgun    900       1.10                 1   \n5    Stinger         SMG   1000      18.00                 1   \n11  Marshall      Sniper   1100       1.50                 2   \n14     Judge     Shotgun   1500       3.50                 2   \n6    Spectre         SMG   1600      13.33                 2   \n15      Ares       Heavy   1600      10.00                 3   \n7    Bulldog       Rifle   2100       9.15                 2   \n8   Guardian       Rifle   2500       6.50                 2   \n10    Vandal       Rifle   2900       9.25                 2   \n9    Phantom       Rifle   2900      11.00                 2   \n16      Odin       Heavy   3200      12.00                 3   \n12  Operator      Sniper   4500       0.75                 3   \n\n    Magazine Capacity  HDMG_0  BDMG_0  LDMG_0  \n0                  12      78      26      22  \n1                   2      36      12      10  \n2                  13      78      26      22  \n3                  15     105      33      26  \n4                   6     160      55      47  \n13                  5      55      22      19  \n5                  20      67      27      23  \n11                  5     202     101      85  \n14                  7      34      17      14  \n6                  30      78      26      22  \n15                 50      72      30      25  \n7                  24     116      35      30  \n8                  12     195      65      49  \n10                 25     156      39      33  \n9                  30     156      39      33  \n16                100      95      38      32  \n12                  5     255     150     127  ",
      "text/html": "<div>\n<style scoped>\n    .dataframe tbody tr th:only-of-type {\n        vertical-align: middle;\n    }\n\n    .dataframe tbody tr th {\n        vertical-align: top;\n    }\n\n    .dataframe thead th {\n        text-align: right;\n    }\n</style>\n<table border=\"1\" class=\"dataframe\">\n  <thead>\n    <tr style=\"text-align: right;\">\n      <th></th>\n      <th>Name</th>\n      <th>Weapon Type</th>\n      <th>Price</th>\n      <th>Fire Rate</th>\n      <th>Wall Penetration</th>\n      <th>Magazine Capacity</th>\n      <th>HDMG_0</th>\n      <th>BDMG_0</th>\n      <th>LDMG_0</th>\n    </tr>\n  </thead>\n  <tbody>\n    <tr>\n      <th>0</th>\n      <td>Classic</td>\n      <td>Sidearm</td>\n      <td>0</td>\n      <td>6.75</td>\n      <td>1</td>\n      <td>12</td>\n      <td>78</td>\n      <td>26</td>\n      <td>22</td>\n    </tr>\n    <tr>\n      <th>1</th>\n      <td>Shorty</td>\n      <td>Sidearm</td>\n      <td>200</td>\n      <td>3.30</td>\n      <td>1</td>\n      <td>2</td>\n      <td>36</td>\n      <td>12</td>\n      <td>10</td>\n    </tr>\n    <tr>\n      <th>2</th>\n      <td>Frenzy</td>\n      <td>Sidearm</td>\n      <td>400</td>\n      <td>10.00</td>\n      <td>1</td>\n      <td>13</td>\n      <td>78</td>\n      <td>26</td>\n      <td>22</td>\n    </tr>\n    <tr>\n      <th>3</th>\n      <td>Ghost</td>\n      <td>Sidearm</td>\n      <td>500</td>\n      <td>6.75</td>\n      <td>2</td>\n      <td>15</td>\n      <td>105</td>\n      <td>33</td>\n      <td>26</td>\n    </tr>\n    <tr>\n      <th>4</th>\n      <td>Sheriff</td>\n      <td>Sidearm</td>\n      <td>800</td>\n      <td>4.00</td>\n      <td>3</td>\n      <td>6</td>\n      <td>160</td>\n      <td>55</td>\n      <td>47</td>\n    </tr>\n    <tr>\n      <th>13</th>\n      <td>Bucky</td>\n      <td>Shotgun</td>\n      <td>900</td>\n      <td>1.10</td>\n      <td>1</td>\n      <td>5</td>\n      <td>55</td>\n      <td>22</td>\n      <td>19</td>\n    </tr>\n    <tr>\n      <th>5</th>\n      <td>Stinger</td>\n      <td>SMG</td>\n      <td>1000</td>\n      <td>18.00</td>\n      <td>1</td>\n      <td>20</td>\n      <td>67</td>\n      <td>27</td>\n      <td>23</td>\n    </tr>\n    <tr>\n      <th>11</th>\n      <td>Marshall</td>\n      <td>Sniper</td>\n      <td>1100</td>\n      <td>1.50</td>\n      <td>2</td>\n      <td>5</td>\n      <td>202</td>\n      <td>101</td>\n      <td>85</td>\n    </tr>\n    <tr>\n      <th>14</th>\n      <td>Judge</td>\n      <td>Shotgun</td>\n      <td>1500</td>\n      <td>3.50</td>\n      <td>2</td>\n      <td>7</td>\n      <td>34</td>\n      <td>17</td>\n      <td>14</td>\n    </tr>\n    <tr>\n      <th>6</th>\n      <td>Spectre</td>\n      <td>SMG</td>\n      <td>1600</td>\n      <td>13.33</td>\n      <td>2</td>\n      <td>30</td>\n      <td>78</td>\n      <td>26</td>\n      <td>22</td>\n    </tr>\n    <tr>\n      <th>15</th>\n      <td>Ares</td>\n      <td>Heavy</td>\n      <td>1600</td>\n      <td>10.00</td>\n      <td>3</td>\n      <td>50</td>\n      <td>72</td>\n      <td>30</td>\n      <td>25</td>\n    </tr>\n    <tr>\n      <th>7</th>\n      <td>Bulldog</td>\n      <td>Rifle</td>\n      <td>2100</td>\n      <td>9.15</td>\n      <td>2</td>\n      <td>24</td>\n      <td>116</td>\n      <td>35</td>\n      <td>30</td>\n    </tr>\n    <tr>\n      <th>8</th>\n      <td>Guardian</td>\n      <td>Rifle</td>\n      <td>2500</td>\n      <td>6.50</td>\n      <td>2</td>\n      <td>12</td>\n      <td>195</td>\n      <td>65</td>\n      <td>49</td>\n    </tr>\n    <tr>\n      <th>10</th>\n      <td>Vandal</td>\n      <td>Rifle</td>\n      <td>2900</td>\n      <td>9.25</td>\n      <td>2</td>\n      <td>25</td>\n      <td>156</td>\n      <td>39</td>\n      <td>33</td>\n    </tr>\n    <tr>\n      <th>9</th>\n      <td>Phantom</td>\n      <td>Rifle</td>\n      <td>2900</td>\n      <td>11.00</td>\n      <td>2</td>\n      <td>30</td>\n      <td>156</td>\n      <td>39</td>\n      <td>33</td>\n    </tr>\n    <tr>\n      <th>16</th>\n      <td>Odin</td>\n      <td>Heavy</td>\n      <td>3200</td>\n      <td>12.00</td>\n      <td>3</td>\n      <td>100</td>\n      <td>95</td>\n      <td>38</td>\n      <td>32</td>\n    </tr>\n    <tr>\n      <th>12</th>\n      <td>Operator</td>\n      <td>Sniper</td>\n      <td>4500</td>\n      <td>0.75</td>\n      <td>3</td>\n      <td>5</td>\n      <td>255</td>\n      <td>150</td>\n      <td>127</td>\n    </tr>\n  </tbody>\n</table>\n</div>"
     },
     "execution_count": 20,
     "metadata": {},
     "output_type": "execute_result"
    }
   ],
   "source": [
    "valorant = valorant.sort_values(\"Price\")\n",
    "\n",
    "valorant"
   ],
   "metadata": {
    "collapsed": false,
    "ExecuteTime": {
     "end_time": "2023-12-19T17:42:09.505825Z",
     "start_time": "2023-12-19T17:42:09.494854500Z"
    }
   },
   "id": "3bc74e6bafb88e57"
  },
  {
   "cell_type": "markdown",
   "source": [
    "Отсортировал по определенным параметрам"
   ],
   "metadata": {
    "collapsed": false
   },
   "id": "347907236a6ec1b0"
  },
  {
   "cell_type": "code",
   "execution_count": 10,
   "outputs": [
    {
     "name": "stdout",
     "output_type": "stream",
     "text": [
      "      Name Weapon Type  Price  Fire Rate Wall Penetration  Magazine Capacity  \\\n",
      "0  Classic     Sidearm      0       6.75              Low                 12   \n",
      "1   Shorty     Sidearm    200       3.30              Low                  2   \n",
      "2   Frenzy     Sidearm    400      10.00              Low                 13   \n",
      "3    Ghost     Sidearm    500       6.75           Medium                 15   \n",
      "4  Sheriff     Sidearm    800       4.00             High                  6   \n",
      "\n",
      "   HDMG_0  BDMG_0  LDMG_0  HDMG_1  BDMG_1  LDMG_1  HDMG_2  BDMG_2  LDMG_2  \n",
      "0      78      26      22      78      26      22      66      22      18  \n",
      "1      36      12      10      24       8       6       9       3       2  \n",
      "2      78      26      22      63      21      17      63      21      17  \n",
      "3     105      33      26      88      25      21      88      25      21  \n",
      "4     160      55      47     160      55      47     145      50      43  \n"
     ]
    }
   ],
   "source": [
    "valorant = valorant.drop(columns=[\"BDMG_1\", \"LDMG_1\", \"HDMG_2\", \"BDMG_2\", \"LDMG_2\", \"HDMG_1\"])\n",
    "\n",
    "valorant"
   ],
   "metadata": {
    "collapsed": false,
    "ExecuteTime": {
     "end_time": "2023-12-19T17:35:59.798474900Z",
     "start_time": "2023-12-19T17:35:59.790496500Z"
    }
   },
   "id": "930dd7a81010dc5a"
  },
  {
   "cell_type": "markdown",
   "source": [
    "Удалить ненужные столбцы или строчки "
   ],
   "metadata": {
    "collapsed": false
   },
   "id": "738eeab648d7a18a"
  },
  {
   "cell_type": "code",
   "execution_count": 11,
   "outputs": [
    {
     "data": {
      "text/plain": "        Name Weapon Type  Price  Fire Rate  Wall Penetration  \\\n0    Classic     Sidearm      0       6.75                 1   \n1     Shorty     Sidearm    200       3.30                 1   \n2     Frenzy     Sidearm    400      10.00                 1   \n3      Ghost     Sidearm    500       6.75                 2   \n4    Sheriff     Sidearm    800       4.00                 3   \n5    Stinger         SMG   1000      18.00                 1   \n6    Spectre         SMG   1600      13.33                 2   \n7    Bulldog       Rifle   2100       9.15                 2   \n8   Guardian       Rifle   2500       6.50                 2   \n9    Phantom       Rifle   2900      11.00                 2   \n10    Vandal       Rifle   2900       9.25                 2   \n11  Marshall      Sniper   1100       1.50                 2   \n12  Operator      Sniper   4500       0.75                 3   \n13     Bucky     Shotgun    900       1.10                 1   \n14     Judge     Shotgun   1500       3.50                 2   \n15      Ares       Heavy   1600      10.00                 3   \n16      Odin       Heavy   3200      12.00                 3   \n\n    Magazine Capacity  HDMG_0  BDMG_0  LDMG_0  \n0                  12      78      26      22  \n1                   2      36      12      10  \n2                  13      78      26      22  \n3                  15     105      33      26  \n4                   6     160      55      47  \n5                  20      67      27      23  \n6                  30      78      26      22  \n7                  24     116      35      30  \n8                  12     195      65      49  \n9                  30     156      39      33  \n10                 25     156      39      33  \n11                  5     202     101      85  \n12                  5     255     150     127  \n13                  5      55      22      19  \n14                  7      34      17      14  \n15                 50      72      30      25  \n16                100      95      38      32  ",
      "text/html": "<div>\n<style scoped>\n    .dataframe tbody tr th:only-of-type {\n        vertical-align: middle;\n    }\n\n    .dataframe tbody tr th {\n        vertical-align: top;\n    }\n\n    .dataframe thead th {\n        text-align: right;\n    }\n</style>\n<table border=\"1\" class=\"dataframe\">\n  <thead>\n    <tr style=\"text-align: right;\">\n      <th></th>\n      <th>Name</th>\n      <th>Weapon Type</th>\n      <th>Price</th>\n      <th>Fire Rate</th>\n      <th>Wall Penetration</th>\n      <th>Magazine Capacity</th>\n      <th>HDMG_0</th>\n      <th>BDMG_0</th>\n      <th>LDMG_0</th>\n    </tr>\n  </thead>\n  <tbody>\n    <tr>\n      <th>0</th>\n      <td>Classic</td>\n      <td>Sidearm</td>\n      <td>0</td>\n      <td>6.75</td>\n      <td>1</td>\n      <td>12</td>\n      <td>78</td>\n      <td>26</td>\n      <td>22</td>\n    </tr>\n    <tr>\n      <th>1</th>\n      <td>Shorty</td>\n      <td>Sidearm</td>\n      <td>200</td>\n      <td>3.30</td>\n      <td>1</td>\n      <td>2</td>\n      <td>36</td>\n      <td>12</td>\n      <td>10</td>\n    </tr>\n    <tr>\n      <th>2</th>\n      <td>Frenzy</td>\n      <td>Sidearm</td>\n      <td>400</td>\n      <td>10.00</td>\n      <td>1</td>\n      <td>13</td>\n      <td>78</td>\n      <td>26</td>\n      <td>22</td>\n    </tr>\n    <tr>\n      <th>3</th>\n      <td>Ghost</td>\n      <td>Sidearm</td>\n      <td>500</td>\n      <td>6.75</td>\n      <td>2</td>\n      <td>15</td>\n      <td>105</td>\n      <td>33</td>\n      <td>26</td>\n    </tr>\n    <tr>\n      <th>4</th>\n      <td>Sheriff</td>\n      <td>Sidearm</td>\n      <td>800</td>\n      <td>4.00</td>\n      <td>3</td>\n      <td>6</td>\n      <td>160</td>\n      <td>55</td>\n      <td>47</td>\n    </tr>\n    <tr>\n      <th>5</th>\n      <td>Stinger</td>\n      <td>SMG</td>\n      <td>1000</td>\n      <td>18.00</td>\n      <td>1</td>\n      <td>20</td>\n      <td>67</td>\n      <td>27</td>\n      <td>23</td>\n    </tr>\n    <tr>\n      <th>6</th>\n      <td>Spectre</td>\n      <td>SMG</td>\n      <td>1600</td>\n      <td>13.33</td>\n      <td>2</td>\n      <td>30</td>\n      <td>78</td>\n      <td>26</td>\n      <td>22</td>\n    </tr>\n    <tr>\n      <th>7</th>\n      <td>Bulldog</td>\n      <td>Rifle</td>\n      <td>2100</td>\n      <td>9.15</td>\n      <td>2</td>\n      <td>24</td>\n      <td>116</td>\n      <td>35</td>\n      <td>30</td>\n    </tr>\n    <tr>\n      <th>8</th>\n      <td>Guardian</td>\n      <td>Rifle</td>\n      <td>2500</td>\n      <td>6.50</td>\n      <td>2</td>\n      <td>12</td>\n      <td>195</td>\n      <td>65</td>\n      <td>49</td>\n    </tr>\n    <tr>\n      <th>9</th>\n      <td>Phantom</td>\n      <td>Rifle</td>\n      <td>2900</td>\n      <td>11.00</td>\n      <td>2</td>\n      <td>30</td>\n      <td>156</td>\n      <td>39</td>\n      <td>33</td>\n    </tr>\n    <tr>\n      <th>10</th>\n      <td>Vandal</td>\n      <td>Rifle</td>\n      <td>2900</td>\n      <td>9.25</td>\n      <td>2</td>\n      <td>25</td>\n      <td>156</td>\n      <td>39</td>\n      <td>33</td>\n    </tr>\n    <tr>\n      <th>11</th>\n      <td>Marshall</td>\n      <td>Sniper</td>\n      <td>1100</td>\n      <td>1.50</td>\n      <td>2</td>\n      <td>5</td>\n      <td>202</td>\n      <td>101</td>\n      <td>85</td>\n    </tr>\n    <tr>\n      <th>12</th>\n      <td>Operator</td>\n      <td>Sniper</td>\n      <td>4500</td>\n      <td>0.75</td>\n      <td>3</td>\n      <td>5</td>\n      <td>255</td>\n      <td>150</td>\n      <td>127</td>\n    </tr>\n    <tr>\n      <th>13</th>\n      <td>Bucky</td>\n      <td>Shotgun</td>\n      <td>900</td>\n      <td>1.10</td>\n      <td>1</td>\n      <td>5</td>\n      <td>55</td>\n      <td>22</td>\n      <td>19</td>\n    </tr>\n    <tr>\n      <th>14</th>\n      <td>Judge</td>\n      <td>Shotgun</td>\n      <td>1500</td>\n      <td>3.50</td>\n      <td>2</td>\n      <td>7</td>\n      <td>34</td>\n      <td>17</td>\n      <td>14</td>\n    </tr>\n    <tr>\n      <th>15</th>\n      <td>Ares</td>\n      <td>Heavy</td>\n      <td>1600</td>\n      <td>10.00</td>\n      <td>3</td>\n      <td>50</td>\n      <td>72</td>\n      <td>30</td>\n      <td>25</td>\n    </tr>\n    <tr>\n      <th>16</th>\n      <td>Odin</td>\n      <td>Heavy</td>\n      <td>3200</td>\n      <td>12.00</td>\n      <td>3</td>\n      <td>100</td>\n      <td>95</td>\n      <td>38</td>\n      <td>32</td>\n    </tr>\n  </tbody>\n</table>\n</div>"
     },
     "execution_count": 11,
     "metadata": {},
     "output_type": "execute_result"
    }
   ],
   "source": [
    "valorant[\"Wall Penetration\"] = valorant[\"Wall Penetration\"].replace(\"Low\", 1)\n",
    "valorant[\"Wall Penetration\"] = valorant[\"Wall Penetration\"].replace(\"Medium\", 2)\n",
    "valorant[\"Wall Penetration\"] = valorant[\"Wall Penetration\"].replace(\"High\", 3)\n",
    "\n",
    "valorant"
   ],
   "metadata": {
    "collapsed": false,
    "ExecuteTime": {
     "end_time": "2023-12-19T17:36:04.567865100Z",
     "start_time": "2023-12-19T17:36:04.559661700Z"
    }
   },
   "id": "3868599060a632bd"
  },
  {
   "cell_type": "markdown",
   "source": [
    "Заменить определенные значения в датасете"
   ],
   "metadata": {
    "collapsed": false
   },
   "id": "fc29d48518fcfdbe"
  },
  {
   "cell_type": "code",
   "execution_count": 7,
   "outputs": [
    {
     "data": {
      "text/plain": "        Name Weapon Type  Price  Fire Rate  Wall Penetration  \\\n0    Classic     Sidearm      0       6.75                 1   \n1     Shorty     Sidearm    200       3.30                 1   \n2     Frenzy     Sidearm    400      10.00                 1   \n3      Ghost     Sidearm    500       6.75                 2   \n4    Sheriff     Sidearm    800       4.00                 3   \n5    Stinger         SMG   1000      18.00                 1   \n6    Spectre         SMG   1600      13.33                 2   \n7    Bulldog       Rifle   2100       9.15                 2   \n8   Guardian       Rifle   2500       6.50                 2   \n9    Phantom       Rifle   2900      11.00                 2   \n10    Vandal       Rifle   2900       9.25                 2   \n11  Marshall      Sniper   1100       1.50                 2   \n12  Operator      Sniper   4500       0.75                 3   \n13     Bucky     Shotgun    900       1.10                 1   \n14     Judge     Shotgun   1500       3.50                 2   \n15      Ares       Heavy   1600      10.00                 3   \n16      Odin       Heavy   3200      12.00                 3   \n\n    Magazine Capacity  HDMG_0  BDMG_0  LDMG_0  HDMG_1  BDMG_1  LDMG_1  HDMG_2  \\\n0                  12      78      26      22      78      26      22      66   \n1                   2      36      12      10      24       8       6       9   \n2                  13      78      26      22      63      21      17      63   \n3                  15     105      33      26      88      25      21      88   \n4                   6     160      55      47     160      55      47     145   \n5                  20      67      27      23      62      25      21      62   \n6                  30      78      26      22      66      22      18      66   \n7                  24     116      35      30     116      35      30     116   \n8                  12     195      65      49     195      65      49     195   \n9                  30     156      39      33     140      35      30     124   \n10                 25     156      39      33     156      39      33     156   \n11                  5     202     101      85     202     101      85     202   \n12                  5     255     150     127     255     150     127     255   \n13                  5      55      22      19      34      17      14      18   \n14                  7      34      17      14      26      13      11      20   \n15                 50      72      30      25      72      30      25      67   \n16                100      95      38      32      95      38      32      77   \n\n    BDMG_2  LDMG_2  \n0       22      18  \n1        3       2  \n2       21      17  \n3       25      21  \n4       50      43  \n5       25      21  \n6       22      18  \n7       35      30  \n8       65      49  \n9       31      26  \n10      39      33  \n11     101      85  \n12     150     127  \n13       9       8  \n14      10       9  \n15      28      23  \n16      31      26  ",
      "text/html": "<div>\n<style scoped>\n    .dataframe tbody tr th:only-of-type {\n        vertical-align: middle;\n    }\n\n    .dataframe tbody tr th {\n        vertical-align: top;\n    }\n\n    .dataframe thead th {\n        text-align: right;\n    }\n</style>\n<table border=\"1\" class=\"dataframe\">\n  <thead>\n    <tr style=\"text-align: right;\">\n      <th></th>\n      <th>Name</th>\n      <th>Weapon Type</th>\n      <th>Price</th>\n      <th>Fire Rate</th>\n      <th>Wall Penetration</th>\n      <th>Magazine Capacity</th>\n      <th>HDMG_0</th>\n      <th>BDMG_0</th>\n      <th>LDMG_0</th>\n      <th>HDMG_1</th>\n      <th>BDMG_1</th>\n      <th>LDMG_1</th>\n      <th>HDMG_2</th>\n      <th>BDMG_2</th>\n      <th>LDMG_2</th>\n    </tr>\n  </thead>\n  <tbody>\n    <tr>\n      <th>0</th>\n      <td>Classic</td>\n      <td>Sidearm</td>\n      <td>0</td>\n      <td>6.75</td>\n      <td>1</td>\n      <td>12</td>\n      <td>78</td>\n      <td>26</td>\n      <td>22</td>\n      <td>78</td>\n      <td>26</td>\n      <td>22</td>\n      <td>66</td>\n      <td>22</td>\n      <td>18</td>\n    </tr>\n    <tr>\n      <th>1</th>\n      <td>Shorty</td>\n      <td>Sidearm</td>\n      <td>200</td>\n      <td>3.30</td>\n      <td>1</td>\n      <td>2</td>\n      <td>36</td>\n      <td>12</td>\n      <td>10</td>\n      <td>24</td>\n      <td>8</td>\n      <td>6</td>\n      <td>9</td>\n      <td>3</td>\n      <td>2</td>\n    </tr>\n    <tr>\n      <th>2</th>\n      <td>Frenzy</td>\n      <td>Sidearm</td>\n      <td>400</td>\n      <td>10.00</td>\n      <td>1</td>\n      <td>13</td>\n      <td>78</td>\n      <td>26</td>\n      <td>22</td>\n      <td>63</td>\n      <td>21</td>\n      <td>17</td>\n      <td>63</td>\n      <td>21</td>\n      <td>17</td>\n    </tr>\n    <tr>\n      <th>3</th>\n      <td>Ghost</td>\n      <td>Sidearm</td>\n      <td>500</td>\n      <td>6.75</td>\n      <td>2</td>\n      <td>15</td>\n      <td>105</td>\n      <td>33</td>\n      <td>26</td>\n      <td>88</td>\n      <td>25</td>\n      <td>21</td>\n      <td>88</td>\n      <td>25</td>\n      <td>21</td>\n    </tr>\n    <tr>\n      <th>4</th>\n      <td>Sheriff</td>\n      <td>Sidearm</td>\n      <td>800</td>\n      <td>4.00</td>\n      <td>3</td>\n      <td>6</td>\n      <td>160</td>\n      <td>55</td>\n      <td>47</td>\n      <td>160</td>\n      <td>55</td>\n      <td>47</td>\n      <td>145</td>\n      <td>50</td>\n      <td>43</td>\n    </tr>\n    <tr>\n      <th>5</th>\n      <td>Stinger</td>\n      <td>SMG</td>\n      <td>1000</td>\n      <td>18.00</td>\n      <td>1</td>\n      <td>20</td>\n      <td>67</td>\n      <td>27</td>\n      <td>23</td>\n      <td>62</td>\n      <td>25</td>\n      <td>21</td>\n      <td>62</td>\n      <td>25</td>\n      <td>21</td>\n    </tr>\n    <tr>\n      <th>6</th>\n      <td>Spectre</td>\n      <td>SMG</td>\n      <td>1600</td>\n      <td>13.33</td>\n      <td>2</td>\n      <td>30</td>\n      <td>78</td>\n      <td>26</td>\n      <td>22</td>\n      <td>66</td>\n      <td>22</td>\n      <td>18</td>\n      <td>66</td>\n      <td>22</td>\n      <td>18</td>\n    </tr>\n    <tr>\n      <th>7</th>\n      <td>Bulldog</td>\n      <td>Rifle</td>\n      <td>2100</td>\n      <td>9.15</td>\n      <td>2</td>\n      <td>24</td>\n      <td>116</td>\n      <td>35</td>\n      <td>30</td>\n      <td>116</td>\n      <td>35</td>\n      <td>30</td>\n      <td>116</td>\n      <td>35</td>\n      <td>30</td>\n    </tr>\n    <tr>\n      <th>8</th>\n      <td>Guardian</td>\n      <td>Rifle</td>\n      <td>2500</td>\n      <td>6.50</td>\n      <td>2</td>\n      <td>12</td>\n      <td>195</td>\n      <td>65</td>\n      <td>49</td>\n      <td>195</td>\n      <td>65</td>\n      <td>49</td>\n      <td>195</td>\n      <td>65</td>\n      <td>49</td>\n    </tr>\n    <tr>\n      <th>9</th>\n      <td>Phantom</td>\n      <td>Rifle</td>\n      <td>2900</td>\n      <td>11.00</td>\n      <td>2</td>\n      <td>30</td>\n      <td>156</td>\n      <td>39</td>\n      <td>33</td>\n      <td>140</td>\n      <td>35</td>\n      <td>30</td>\n      <td>124</td>\n      <td>31</td>\n      <td>26</td>\n    </tr>\n    <tr>\n      <th>10</th>\n      <td>Vandal</td>\n      <td>Rifle</td>\n      <td>2900</td>\n      <td>9.25</td>\n      <td>2</td>\n      <td>25</td>\n      <td>156</td>\n      <td>39</td>\n      <td>33</td>\n      <td>156</td>\n      <td>39</td>\n      <td>33</td>\n      <td>156</td>\n      <td>39</td>\n      <td>33</td>\n    </tr>\n    <tr>\n      <th>11</th>\n      <td>Marshall</td>\n      <td>Sniper</td>\n      <td>1100</td>\n      <td>1.50</td>\n      <td>2</td>\n      <td>5</td>\n      <td>202</td>\n      <td>101</td>\n      <td>85</td>\n      <td>202</td>\n      <td>101</td>\n      <td>85</td>\n      <td>202</td>\n      <td>101</td>\n      <td>85</td>\n    </tr>\n    <tr>\n      <th>12</th>\n      <td>Operator</td>\n      <td>Sniper</td>\n      <td>4500</td>\n      <td>0.75</td>\n      <td>3</td>\n      <td>5</td>\n      <td>255</td>\n      <td>150</td>\n      <td>127</td>\n      <td>255</td>\n      <td>150</td>\n      <td>127</td>\n      <td>255</td>\n      <td>150</td>\n      <td>127</td>\n    </tr>\n    <tr>\n      <th>13</th>\n      <td>Bucky</td>\n      <td>Shotgun</td>\n      <td>900</td>\n      <td>1.10</td>\n      <td>1</td>\n      <td>5</td>\n      <td>55</td>\n      <td>22</td>\n      <td>19</td>\n      <td>34</td>\n      <td>17</td>\n      <td>14</td>\n      <td>18</td>\n      <td>9</td>\n      <td>8</td>\n    </tr>\n    <tr>\n      <th>14</th>\n      <td>Judge</td>\n      <td>Shotgun</td>\n      <td>1500</td>\n      <td>3.50</td>\n      <td>2</td>\n      <td>7</td>\n      <td>34</td>\n      <td>17</td>\n      <td>14</td>\n      <td>26</td>\n      <td>13</td>\n      <td>11</td>\n      <td>20</td>\n      <td>10</td>\n      <td>9</td>\n    </tr>\n    <tr>\n      <th>15</th>\n      <td>Ares</td>\n      <td>Heavy</td>\n      <td>1600</td>\n      <td>10.00</td>\n      <td>3</td>\n      <td>50</td>\n      <td>72</td>\n      <td>30</td>\n      <td>25</td>\n      <td>72</td>\n      <td>30</td>\n      <td>25</td>\n      <td>67</td>\n      <td>28</td>\n      <td>23</td>\n    </tr>\n    <tr>\n      <th>16</th>\n      <td>Odin</td>\n      <td>Heavy</td>\n      <td>3200</td>\n      <td>12.00</td>\n      <td>3</td>\n      <td>100</td>\n      <td>95</td>\n      <td>38</td>\n      <td>32</td>\n      <td>95</td>\n      <td>38</td>\n      <td>32</td>\n      <td>77</td>\n      <td>31</td>\n      <td>26</td>\n    </tr>\n  </tbody>\n</table>\n</div>"
     },
     "execution_count": 7,
     "metadata": {},
     "output_type": "execute_result"
    }
   ],
   "source": [
    "sorted_csv = valorant.drop_duplicates()\n",
    "\n",
    "valorant"
   ],
   "metadata": {
    "collapsed": false,
    "ExecuteTime": {
     "end_time": "2023-12-19T17:34:05.108163500Z",
     "start_time": "2023-12-19T17:34:05.092100800Z"
    }
   },
   "id": "a8d21e88d6c4af7c"
  },
  {
   "cell_type": "markdown",
   "source": [
    "удалили дубликаты, я не стал удалять дубликаты в самом valorant, потому что в шестой практической оказывается обходимо будет кучу графиков сделать, воооооот, такие дела"
   ],
   "metadata": {
    "collapsed": false
   },
   "id": "7c50b0daf7a370bb"
  },
  {
   "cell_type": "code",
   "execution_count": 12,
   "outputs": [
    {
     "name": "stdout",
     "output_type": "stream",
     "text": [
      "<class 'pandas.core.frame.DataFrame'>\n",
      "RangeIndex: 17 entries, 0 to 16\n",
      "Data columns (total 9 columns):\n",
      " #   Column             Non-Null Count  Dtype  \n",
      "---  ------             --------------  -----  \n",
      " 0   Name               17 non-null     object \n",
      " 1   Weapon Type        17 non-null     object \n",
      " 2   Price              17 non-null     int64  \n",
      " 3   Fire Rate          17 non-null     float64\n",
      " 4   Wall Penetration   17 non-null     int64  \n",
      " 5   Magazine Capacity  17 non-null     int64  \n",
      " 6   HDMG_0             17 non-null     int64  \n",
      " 7   BDMG_0             17 non-null     int64  \n",
      " 8   LDMG_0             17 non-null     int64  \n",
      "dtypes: float64(1), int64(6), object(2)\n",
      "memory usage: 1.3+ KB\n"
     ]
    }
   ],
   "source": [
    "valorant.info()"
   ],
   "metadata": {
    "collapsed": false,
    "ExecuteTime": {
     "end_time": "2023-12-19T17:37:47.144617300Z",
     "start_time": "2023-12-19T17:37:47.131397400Z"
    }
   },
   "id": "d7725a252540f1e9"
  },
  {
   "cell_type": "markdown",
   "source": [
    "Провести анализ с помощью функций info. Info используется для вывода общей информации о датасете, включая количество непустых значений в каждом столбце, типы данных и использование памяти."
   ],
   "metadata": {
    "collapsed": false
   },
   "id": "f272f319282e1036"
  },
  {
   "cell_type": "code",
   "execution_count": 2,
   "outputs": [
    {
     "data": {
      "text/plain": "             Price  Fire Rate  Magazine Capacity      HDMG_0      BDMG_0  \\\ncount    17.000000  17.000000          17.000000   17.000000   17.000000   \nmean   1629.411765   7.463529          21.235294  114.000000   43.588235   \nstd    1232.763514   4.779767          23.823647   63.295932   34.483798   \nmin       0.000000   0.750000           2.000000   34.000000   12.000000   \n25%     800.000000   3.500000           6.000000   72.000000   26.000000   \n50%    1500.000000   6.750000          13.000000   95.000000   33.000000   \n75%    2500.000000  10.000000          25.000000  156.000000   39.000000   \nmax    4500.000000  18.000000         100.000000  255.000000  150.000000   \n\n           LDMG_0      HDMG_1      BDMG_1      LDMG_1      HDMG_2      BDMG_2  \\\ncount   17.000000   17.000000   17.000000   17.000000   17.000000   17.000000   \nmean    36.411765  107.764706   41.470588   34.588235  101.705882   39.235294   \nstd     29.010901   67.098369   35.709098   30.099956   69.682104   36.705806   \nmin     10.000000   24.000000    8.000000    6.000000    9.000000    3.000000   \n25%     22.000000   63.000000   22.000000   18.000000   63.000000   22.000000   \n50%     26.000000   88.000000   30.000000   25.000000   77.000000   28.000000   \n75%     33.000000  156.000000   39.000000   33.000000  145.000000   39.000000   \nmax    127.000000  255.000000  150.000000  127.000000  255.000000  150.000000   \n\n           LDMG_2  \ncount   17.000000  \nmean    32.705882  \nstd     30.880343  \nmin      2.000000  \n25%     18.000000  \n50%     23.000000  \n75%     33.000000  \nmax    127.000000  ",
      "text/html": "<div>\n<style scoped>\n    .dataframe tbody tr th:only-of-type {\n        vertical-align: middle;\n    }\n\n    .dataframe tbody tr th {\n        vertical-align: top;\n    }\n\n    .dataframe thead th {\n        text-align: right;\n    }\n</style>\n<table border=\"1\" class=\"dataframe\">\n  <thead>\n    <tr style=\"text-align: right;\">\n      <th></th>\n      <th>Price</th>\n      <th>Fire Rate</th>\n      <th>Magazine Capacity</th>\n      <th>HDMG_0</th>\n      <th>BDMG_0</th>\n      <th>LDMG_0</th>\n      <th>HDMG_1</th>\n      <th>BDMG_1</th>\n      <th>LDMG_1</th>\n      <th>HDMG_2</th>\n      <th>BDMG_2</th>\n      <th>LDMG_2</th>\n    </tr>\n  </thead>\n  <tbody>\n    <tr>\n      <th>count</th>\n      <td>17.000000</td>\n      <td>17.000000</td>\n      <td>17.000000</td>\n      <td>17.000000</td>\n      <td>17.000000</td>\n      <td>17.000000</td>\n      <td>17.000000</td>\n      <td>17.000000</td>\n      <td>17.000000</td>\n      <td>17.000000</td>\n      <td>17.000000</td>\n      <td>17.000000</td>\n    </tr>\n    <tr>\n      <th>mean</th>\n      <td>1629.411765</td>\n      <td>7.463529</td>\n      <td>21.235294</td>\n      <td>114.000000</td>\n      <td>43.588235</td>\n      <td>36.411765</td>\n      <td>107.764706</td>\n      <td>41.470588</td>\n      <td>34.588235</td>\n      <td>101.705882</td>\n      <td>39.235294</td>\n      <td>32.705882</td>\n    </tr>\n    <tr>\n      <th>std</th>\n      <td>1232.763514</td>\n      <td>4.779767</td>\n      <td>23.823647</td>\n      <td>63.295932</td>\n      <td>34.483798</td>\n      <td>29.010901</td>\n      <td>67.098369</td>\n      <td>35.709098</td>\n      <td>30.099956</td>\n      <td>69.682104</td>\n      <td>36.705806</td>\n      <td>30.880343</td>\n    </tr>\n    <tr>\n      <th>min</th>\n      <td>0.000000</td>\n      <td>0.750000</td>\n      <td>2.000000</td>\n      <td>34.000000</td>\n      <td>12.000000</td>\n      <td>10.000000</td>\n      <td>24.000000</td>\n      <td>8.000000</td>\n      <td>6.000000</td>\n      <td>9.000000</td>\n      <td>3.000000</td>\n      <td>2.000000</td>\n    </tr>\n    <tr>\n      <th>25%</th>\n      <td>800.000000</td>\n      <td>3.500000</td>\n      <td>6.000000</td>\n      <td>72.000000</td>\n      <td>26.000000</td>\n      <td>22.000000</td>\n      <td>63.000000</td>\n      <td>22.000000</td>\n      <td>18.000000</td>\n      <td>63.000000</td>\n      <td>22.000000</td>\n      <td>18.000000</td>\n    </tr>\n    <tr>\n      <th>50%</th>\n      <td>1500.000000</td>\n      <td>6.750000</td>\n      <td>13.000000</td>\n      <td>95.000000</td>\n      <td>33.000000</td>\n      <td>26.000000</td>\n      <td>88.000000</td>\n      <td>30.000000</td>\n      <td>25.000000</td>\n      <td>77.000000</td>\n      <td>28.000000</td>\n      <td>23.000000</td>\n    </tr>\n    <tr>\n      <th>75%</th>\n      <td>2500.000000</td>\n      <td>10.000000</td>\n      <td>25.000000</td>\n      <td>156.000000</td>\n      <td>39.000000</td>\n      <td>33.000000</td>\n      <td>156.000000</td>\n      <td>39.000000</td>\n      <td>33.000000</td>\n      <td>145.000000</td>\n      <td>39.000000</td>\n      <td>33.000000</td>\n    </tr>\n    <tr>\n      <th>max</th>\n      <td>4500.000000</td>\n      <td>18.000000</td>\n      <td>100.000000</td>\n      <td>255.000000</td>\n      <td>150.000000</td>\n      <td>127.000000</td>\n      <td>255.000000</td>\n      <td>150.000000</td>\n      <td>127.000000</td>\n      <td>255.000000</td>\n      <td>150.000000</td>\n      <td>127.000000</td>\n    </tr>\n  </tbody>\n</table>\n</div>"
     },
     "execution_count": 2,
     "metadata": {},
     "output_type": "execute_result"
    }
   ],
   "source": [
    "valorant.describe()"
   ],
   "metadata": {
    "collapsed": false,
    "ExecuteTime": {
     "end_time": "2023-12-20T11:16:03.482258Z",
     "start_time": "2023-12-20T11:16:03.343243800Z"
    }
   },
   "id": "d3c0ff2580527905"
  },
  {
   "cell_type": "markdown",
   "source": [
    "анализ с помощью функции describe. С помощью describe мы получили общие статистические данные, например можно посмотреть максимальную цену на оружие и так далее, ну то есть просто какие-то статистические данные, с которыми потом можно работать"
   ],
   "metadata": {
    "collapsed": false
   },
   "id": "37c877f0851800e4"
  },
  {
   "cell_type": "code",
   "execution_count": 14,
   "outputs": [
    {
     "data": {
      "text/plain": "        Name Weapon Type  Price  Fire Rate  Wall Penetration  \\\n3      Ghost     Sidearm    500       6.75                 2   \n4    Sheriff     Sidearm    800       4.00                 3   \n5    Stinger         SMG   1000      18.00                 1   \n6    Spectre         SMG   1600      13.33                 2   \n7    Bulldog       Rifle   2100       9.15                 2   \n8   Guardian       Rifle   2500       6.50                 2   \n9    Phantom       Rifle   2900      11.00                 2   \n10    Vandal       Rifle   2900       9.25                 2   \n11  Marshall      Sniper   1100       1.50                 2   \n12  Operator      Sniper   4500       0.75                 3   \n13     Bucky     Shotgun    900       1.10                 1   \n14     Judge     Shotgun   1500       3.50                 2   \n15      Ares       Heavy   1600      10.00                 3   \n16      Odin       Heavy   3200      12.00                 3   \n\n    Magazine Capacity  HDMG_0  BDMG_0  LDMG_0  \n3                  15     105      33      26  \n4                   6     160      55      47  \n5                  20      67      27      23  \n6                  30      78      26      22  \n7                  24     116      35      30  \n8                  12     195      65      49  \n9                  30     156      39      33  \n10                 25     156      39      33  \n11                  5     202     101      85  \n12                  5     255     150     127  \n13                  5      55      22      19  \n14                  7      34      17      14  \n15                 50      72      30      25  \n16                100      95      38      32  ",
      "text/html": "<div>\n<style scoped>\n    .dataframe tbody tr th:only-of-type {\n        vertical-align: middle;\n    }\n\n    .dataframe tbody tr th {\n        vertical-align: top;\n    }\n\n    .dataframe thead th {\n        text-align: right;\n    }\n</style>\n<table border=\"1\" class=\"dataframe\">\n  <thead>\n    <tr style=\"text-align: right;\">\n      <th></th>\n      <th>Name</th>\n      <th>Weapon Type</th>\n      <th>Price</th>\n      <th>Fire Rate</th>\n      <th>Wall Penetration</th>\n      <th>Magazine Capacity</th>\n      <th>HDMG_0</th>\n      <th>BDMG_0</th>\n      <th>LDMG_0</th>\n    </tr>\n  </thead>\n  <tbody>\n    <tr>\n      <th>3</th>\n      <td>Ghost</td>\n      <td>Sidearm</td>\n      <td>500</td>\n      <td>6.75</td>\n      <td>2</td>\n      <td>15</td>\n      <td>105</td>\n      <td>33</td>\n      <td>26</td>\n    </tr>\n    <tr>\n      <th>4</th>\n      <td>Sheriff</td>\n      <td>Sidearm</td>\n      <td>800</td>\n      <td>4.00</td>\n      <td>3</td>\n      <td>6</td>\n      <td>160</td>\n      <td>55</td>\n      <td>47</td>\n    </tr>\n    <tr>\n      <th>5</th>\n      <td>Stinger</td>\n      <td>SMG</td>\n      <td>1000</td>\n      <td>18.00</td>\n      <td>1</td>\n      <td>20</td>\n      <td>67</td>\n      <td>27</td>\n      <td>23</td>\n    </tr>\n    <tr>\n      <th>6</th>\n      <td>Spectre</td>\n      <td>SMG</td>\n      <td>1600</td>\n      <td>13.33</td>\n      <td>2</td>\n      <td>30</td>\n      <td>78</td>\n      <td>26</td>\n      <td>22</td>\n    </tr>\n    <tr>\n      <th>7</th>\n      <td>Bulldog</td>\n      <td>Rifle</td>\n      <td>2100</td>\n      <td>9.15</td>\n      <td>2</td>\n      <td>24</td>\n      <td>116</td>\n      <td>35</td>\n      <td>30</td>\n    </tr>\n    <tr>\n      <th>8</th>\n      <td>Guardian</td>\n      <td>Rifle</td>\n      <td>2500</td>\n      <td>6.50</td>\n      <td>2</td>\n      <td>12</td>\n      <td>195</td>\n      <td>65</td>\n      <td>49</td>\n    </tr>\n    <tr>\n      <th>9</th>\n      <td>Phantom</td>\n      <td>Rifle</td>\n      <td>2900</td>\n      <td>11.00</td>\n      <td>2</td>\n      <td>30</td>\n      <td>156</td>\n      <td>39</td>\n      <td>33</td>\n    </tr>\n    <tr>\n      <th>10</th>\n      <td>Vandal</td>\n      <td>Rifle</td>\n      <td>2900</td>\n      <td>9.25</td>\n      <td>2</td>\n      <td>25</td>\n      <td>156</td>\n      <td>39</td>\n      <td>33</td>\n    </tr>\n    <tr>\n      <th>11</th>\n      <td>Marshall</td>\n      <td>Sniper</td>\n      <td>1100</td>\n      <td>1.50</td>\n      <td>2</td>\n      <td>5</td>\n      <td>202</td>\n      <td>101</td>\n      <td>85</td>\n    </tr>\n    <tr>\n      <th>12</th>\n      <td>Operator</td>\n      <td>Sniper</td>\n      <td>4500</td>\n      <td>0.75</td>\n      <td>3</td>\n      <td>5</td>\n      <td>255</td>\n      <td>150</td>\n      <td>127</td>\n    </tr>\n    <tr>\n      <th>13</th>\n      <td>Bucky</td>\n      <td>Shotgun</td>\n      <td>900</td>\n      <td>1.10</td>\n      <td>1</td>\n      <td>5</td>\n      <td>55</td>\n      <td>22</td>\n      <td>19</td>\n    </tr>\n    <tr>\n      <th>14</th>\n      <td>Judge</td>\n      <td>Shotgun</td>\n      <td>1500</td>\n      <td>3.50</td>\n      <td>2</td>\n      <td>7</td>\n      <td>34</td>\n      <td>17</td>\n      <td>14</td>\n    </tr>\n    <tr>\n      <th>15</th>\n      <td>Ares</td>\n      <td>Heavy</td>\n      <td>1600</td>\n      <td>10.00</td>\n      <td>3</td>\n      <td>50</td>\n      <td>72</td>\n      <td>30</td>\n      <td>25</td>\n    </tr>\n    <tr>\n      <th>16</th>\n      <td>Odin</td>\n      <td>Heavy</td>\n      <td>3200</td>\n      <td>12.00</td>\n      <td>3</td>\n      <td>100</td>\n      <td>95</td>\n      <td>38</td>\n      <td>32</td>\n    </tr>\n  </tbody>\n</table>\n</div>"
     },
     "execution_count": 14,
     "metadata": {},
     "output_type": "execute_result"
    }
   ],
   "source": [
    "valorant.loc[valorant[\"Price\"] >= 500]"
   ],
   "metadata": {
    "collapsed": false,
    "ExecuteTime": {
     "end_time": "2023-12-19T17:37:56.684832300Z",
     "start_time": "2023-12-19T17:37:56.668651400Z"
    }
   },
   "id": "eda01670e75ff51f"
  },
  {
   "cell_type": "markdown",
   "source": [
    "Провести выборку данных по строкам и столбцам с помощью loc. Я выбрал сотртировку чтоб цена была больше или равна 500"
   ],
   "metadata": {
    "collapsed": false
   },
   "id": "e48d3772ec91bb85"
  },
  {
   "cell_type": "code",
   "execution_count": 21,
   "outputs": [],
   "source": [
    "valorant.to_csv(\"valorant-stats_PALOMALO_SILNO.csv\")"
   ],
   "metadata": {
    "collapsed": false,
    "ExecuteTime": {
     "end_time": "2023-12-19T17:42:16.068685200Z",
     "start_time": "2023-12-19T17:42:16.054596400Z"
    }
   },
   "id": "cdeaec63c4998d59"
  },
  {
   "cell_type": "markdown",
   "source": [
    "сохранили в папку с проектом"
   ],
   "metadata": {
    "collapsed": false
   },
   "id": "badf1603d5a71477"
  },
  {
   "cell_type": "markdown",
   "source": [
    "Вывод: был реализован базовый анализ датасета:\n",
    "            Датасеты не должны повторяться\n",
    "            Вывести весь датасет и опишите его\n",
    "            Вывести размерноть массива\n",
    "            Вывести наименование всех колонок, написать что они означают в вашем датасете\n",
    "            Вывести все уникальные значения\n",
    "            Отсортировать по определенным параметрам\n",
    "            Удалить ненужные столбцы или строчки \n",
    "            Заменить определенные значения в датасете (например, пустые)\n",
    "            Удалить дубликаты\n",
    "            Провести анализ с помощью функций info\n",
    "            Провести анализ с помощью функций describe\n",
    "            Провести выборку данных по строкам и столбцам с помощью loc\n",
    "            Сохранить новый датасет\n",
    "            Сделать вывод по каждому пункту и описать все"
   ],
   "metadata": {
    "collapsed": false
   },
   "id": "918598f3436e1762"
  }
 ],
 "metadata": {
  "kernelspec": {
   "display_name": "Python 3",
   "language": "python",
   "name": "python3"
  },
  "language_info": {
   "codemirror_mode": {
    "name": "ipython",
    "version": 2
   },
   "file_extension": ".py",
   "mimetype": "text/x-python",
   "name": "python",
   "nbconvert_exporter": "python",
   "pygments_lexer": "ipython2",
   "version": "2.7.6"
  }
 },
 "nbformat": 4,
 "nbformat_minor": 5
}
